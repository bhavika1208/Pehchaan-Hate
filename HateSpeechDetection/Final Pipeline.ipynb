{
 "cells": [
  {
   "cell_type": "code",
   "execution_count": 1,
   "id": "f6ae3663",
   "metadata": {},
   "outputs": [],
   "source": [
    "import pandas as pd\n",
    "import requests\n",
    "import pickle\n",
    "import warnings\n",
    "warnings.filterwarnings(\"ignore\")\n",
    "\n",
    "from sklearn.model_selection import train_test_split\n",
    "from sklearn.feature_extraction.text import TfidfVectorizer\n",
    "from sklearn.linear_model import LogisticRegression\n",
    "from sklearn.ensemble import RandomForestClassifier\n",
    "\n",
    "import re\n",
    "import gensim\n",
    "from nltk.stem import WordNetLemmatizer\n",
    "\n",
    "from sklearn.metrics import precision_score, recall_score, accuracy_score, f1_score, auc, average_precision_score, confusion_matrix, roc_auc_score\n",
    "from tqdm import tqdm\n",
    "import pandas as pd\n",
    "import numpy as np\n",
    "import requests\n",
    "import matplotlib.pyplot as plt\n",
    "import seaborn as sns"
   ]
  },
  {
   "cell_type": "code",
   "execution_count": 2,
   "id": "df5a0284",
   "metadata": {},
   "outputs": [],
   "source": [
    "train = pd.read_csv('data/train_tweet.csv')\n",
    "test = pd.read_csv('data/test_tweets.csv')"
   ]
  },
  {
   "cell_type": "code",
   "execution_count": 3,
   "id": "f857ef82",
   "metadata": {},
   "outputs": [],
   "source": [
    "def preprocess(tweet):\n",
    "    result = re.sub(r'(RT\\s@[A-Za-z]+[A-Za-z0-9-_]+)', '', tweet)\n",
    "    result = re.sub(r'(@[A-Za-z0-9-_]+)', '', result)\n",
    "    result = re.sub(r'http\\S+', '', result)\n",
    "    result = re.sub(r'bit.ly/\\S+', '', result) \n",
    "    result = re.sub(r'&[\\S]+?;', '', result)\n",
    "    result = re.sub(r'#', ' ', result)\n",
    "    result = re.sub(r'[^\\w\\s]', r'', result)    \n",
    "    result = re.sub(r'\\w*\\d\\w*', r'', result)\n",
    "    result = re.sub(r'\\s\\s+', ' ', result)\n",
    "    result = re.sub(r'(\\A\\s+|\\s+\\Z)', '', result)\n",
    "    result = tokenize(result)\n",
    "    return result \n",
    "\n",
    "def lemmatize(token):\n",
    "    return WordNetLemmatizer().lemmatize(token, pos='v')\n",
    "\n",
    "def tokenize(tweet):\n",
    "    result = []\n",
    "    for token in gensim.utils.simple_preprocess(tweet):\n",
    "        if token not in gensim.parsing.preprocessing.STOPWORDS and len(token) > 2:  # drops stopwords and words with <3 characters\n",
    "            result.append(lemmatize(token))\n",
    "    result = ' '.join(result)\n",
    "    return result"
   ]
  },
  {
   "cell_type": "code",
   "execution_count": 4,
   "id": "e6da2d6e",
   "metadata": {},
   "outputs": [
    {
     "data": {
      "text/plain": [
       "0    father dysfunctional selfish drag kid dysfunct...\n",
       "1    thank lyft credit use cause dont offer wheelch...\n",
       "2                                       bihday majesty\n",
       "3                         model love time urð ðððð ððð\n",
       "4                        factsguide society motivation\n",
       "Name: tweet, dtype: object"
      ]
     },
     "execution_count": 4,
     "metadata": {},
     "output_type": "execute_result"
    }
   ],
   "source": [
    "train_processed = train['tweet'].apply(lambda x: preprocess(x))\n",
    "train_processed.head()"
   ]
  },
  {
   "cell_type": "code",
   "execution_count": 5,
   "id": "f668283f",
   "metadata": {},
   "outputs": [],
   "source": [
    "def aps(X, y, model):\n",
    "    probs = model.decision_function(X)\n",
    "    return average_precision_score(y, probs)\n",
    "\n",
    "def auc(X, y, model):\n",
    "    probs = model.decision_function(X) \n",
    "    return roc_auc_score(y, probs)\n",
    "\n",
    "def get_metrics(X, y, y_pred, model):\n",
    "    acc = accuracy_score(y, y_pred)\n",
    "    f1 = f1_score(y, y_pred)\n",
    "    rec = recall_score(y, y_pred)\n",
    "    prec = precision_score(y, y_pred)\n",
    "    rocauc = auc(X, y, model)\n",
    "    prauc = aps(X, y, model)\n",
    "    \n",
    "    print('Accuracy: ', acc)\n",
    "    print('F1: ', f1)\n",
    "    print('Recall: ', rec)\n",
    "    print('Precision: ', prec)\n",
    "    print('ROC-AUC: ', rocauc)\n",
    "    print('PR-AUC: ', prauc)\n",
    "\n",
    "def get_confusion(y, y_pred):\n",
    "    cnf = confusion_matrix(y, y_pred)\n",
    "    group_names = ['TN','FP','FN','TP']\n",
    "    group_counts = ['{0:0.0f}'.format(value) for value in cnf.flatten()]\n",
    "    group_percentages = ['{0:.2%}'.format(value) for value in cnf.flatten()/np.sum(cnf)]\n",
    "    labels = [f'{v1}\\n{v2}\\n{v3}' for v1, v2, v3 in zip(group_names, group_counts, group_percentages)]\n",
    "    labels = np.asarray(labels).reshape(2,2)\n",
    "    fig, ax = plt.subplots(figsize=(4,4))\n",
    "    sns.heatmap(cnf, annot=labels, fmt='', cmap='Blues', annot_kws={'size':14}, cbar=False, xticklabels=False, yticklabels=False)"
   ]
  },
  {
   "cell_type": "code",
   "execution_count": 6,
   "id": "e0a7c870",
   "metadata": {},
   "outputs": [],
   "source": [
    "x = train_processed\n",
    "y = train.iloc[:, 1]"
   ]
  },
  {
   "cell_type": "code",
   "execution_count": 7,
   "id": "3c81798e",
   "metadata": {},
   "outputs": [],
   "source": [
    "x_train, x_valid, y_train, y_valid = train_test_split(x, y, test_size = 0.25)"
   ]
  },
  {
   "cell_type": "code",
   "execution_count": 8,
   "id": "613cac33",
   "metadata": {},
   "outputs": [],
   "source": [
    "# X_tr = train_processed.values\n",
    "# X_val = valid_processed.values\n",
    "# y_tr = train.label.values\n",
    "# y_val = valid.label.values\n",
    "\n",
    "vec = TfidfVectorizer()\n",
    "tfidf_tr = vec.fit_transform(x_train)\n",
    "tfidf_val = vec.transform(x_valid)"
   ]
  },
  {
   "cell_type": "code",
   "execution_count": 9,
   "id": "25f58870",
   "metadata": {},
   "outputs": [
    {
     "name": "stdout",
     "output_type": "stream",
     "text": [
      "Accuracy:  0.9633337504692779\n",
      "F1:  0.6573099415204678\n",
      "Recall:  0.525233644859813\n",
      "Precision:  0.878125\n",
      "ROC-AUC:  0.944472368737716\n",
      "PR-AUC:  0.7547714453601951\n"
     ]
    }
   ],
   "source": [
    "clf = LogisticRegression(C=10, penalty='l2', solver='lbfgs').fit(tfidf_tr, y_train)\n",
    "y_pred = clf.predict(tfidf_val)\n",
    "get_metrics(tfidf_val, y_valid, y_pred, clf)"
   ]
  },
  {
   "cell_type": "code",
   "execution_count": 14,
   "id": "6c6c2b3c",
   "metadata": {},
   "outputs": [
    {
     "data": {
      "image/png": "[encoded data removed]",
      "text/plain": [
       "<Figure size 288x288 with 1 Axes>"
      ]
     },
     "metadata": {},
     "output_type": "display_data"
    }
   ],
   "source": [
    "get_confusion(y_valid, y_pred)"
   ]
  },
  {
   "cell_type": "code",
   "execution_count": 13,
   "id": "deeeb36d",
   "metadata": {},
   "outputs": [
    {
     "name": "stdout",
     "output_type": "stream",
     "text": [
      "Training Accuracy : 0.9999165658504026\n",
      "Validation Accuracy : 0.9614566387185584\n",
      "F1 score : 0.6342042755344418\n",
      "[[7416   40]\n",
      " [ 268  267]]\n"
     ]
    }
   ],
   "source": [
    "from sklearn.ensemble import RandomForestClassifier\n",
    "rf = RandomForestClassifier()\n",
    "rf.fit(tfidf_tr, y_train)\n",
    "rf_y_pred = rf.predict(tfidf_val)\n",
    "\n",
    "print(\"Training Accuracy :\", rf.score(tfidf_tr, y_train))\n",
    "print(\"Validation Accuracy :\", rf.score(tfidf_val, y_valid))\n",
    "\n",
    "# calculating the f1 score for the validation set\n",
    "print(\"F1 score :\", f1_score(y_valid, rf_y_pred))\n",
    "\n",
    "# confusion matrix\n",
    "cm = confusion_matrix(y_valid, rf_y_pred)\n",
    "print(cm)"
   ]
  },
  {
   "cell_type": "code",
   "execution_count": 11,
   "id": "6b417990",
   "metadata": {},
   "outputs": [],
   "source": [
    "pickle.dump(clf, open(\"model1.pkl\", \"wb\"))"
   ]
  },
  {
   "cell_type": "code",
   "execution_count": 15,
   "id": "cac95703",
   "metadata": {},
   "outputs": [],
   "source": [
    "pickle.dump(rf, open(\"model2.pkl\", \"wb\"))"
   ]
  },
  {
   "cell_type": "code",
   "execution_count": 12,
   "id": "9b598814",
   "metadata": {},
   "outputs": [],
   "source": [
    "pickle.dump(vec, open(\"vec1.pkl\", \"wb\"))"
   ]
  },
  {
   "cell_type": "code",
   "execution_count": 19,
   "id": "523f2ef2",
   "metadata": {},
   "outputs": [],
   "source": [
    "def make_prediction(tweet):\n",
    "    model = pickle.load(open(\"model1.pkl\", \"rb\"))\n",
    "    processed = preprocess(tweet)\n",
    "    lst = []\n",
    "    lst.append(processed)\n",
    "    vec = pickle.load(open(\"vec1.pkl\", \"rb\"))\n",
    "    vectorized = vec.transform(lst)\n",
    "    pred = model.predict(vectorized)\n",
    "    prob = model.predict_proba(vectorized)[:,1]\n",
    "    mapping = {0: 'Same tweet, different day. Keep it movin\\'.', 1: 'Didn\\'t your parents ever wash your mouth out with SOAP?  Well they should!'}\n",
    "    prediction = mapping[pred[0]]\n",
    "    probability = str(prob)[1:-1]\n",
    "    return tweet, prediction, probability"
   ]
  },
  {
   "cell_type": "code",
   "execution_count": 20,
   "id": "2831c9d4",
   "metadata": {},
   "outputs": [],
   "source": [
    "str1 = \"@canelo28969897 @ItsCandyyyyyyy @DiamondRhona @darrel30901325 @Noblenosey Don’t nobody want no damn white man ew &amp;… https://t.co/cuzxJAzFGL\" \n",
    "str2 = \"@user lol speak for your own hazara(mongol) people who have nothing to do with ethnic afghans (nor genetical\\u2026 @URL\"\n",
    "str3 = \"i am going to the store to get some broccoli and cheese, any suggestions on cheese?\"\n",
    "str4 = \"@canelo28969897 @ItsCandyyyyyyy @DiamondRhona @darrel30901325 @Noblenosey Don’t nobody want no damn white man ew fuck you hate you black people\""
   ]
  },
  {
   "cell_type": "code",
   "execution_count": 21,
   "id": "94331dac",
   "metadata": {},
   "outputs": [
    {
     "data": {
      "text/plain": [
       "('@canelo28969897 @ItsCandyyyyyyy @DiamondRhona @darrel30901325 @Noblenosey Don’t nobody want no damn white man ew &amp;… https://t.co/cuzxJAzFGL',\n",
       " \"Didn't your parents ever wash your mouth out with SOAP?  Well they should!\",\n",
       " '0.74614851')"
      ]
     },
     "execution_count": 21,
     "metadata": {},
     "output_type": "execute_result"
    }
   ],
   "source": [
    "make_prediction(str1)"
   ]
  },
  {
   "cell_type": "code",
   "execution_count": 22,
   "id": "7a33a3c7",
   "metadata": {},
   "outputs": [
    {
     "data": {
      "text/plain": [
       "('@user lol speak for your own hazara(mongol) people who have nothing to do with ethnic afghans (nor genetical… @URL',\n",
       " \"Same tweet, different day. Keep it movin'.\",\n",
       " '0.06903526')"
      ]
     },
     "execution_count": 22,
     "metadata": {},
     "output_type": "execute_result"
    }
   ],
   "source": [
    "make_prediction(str2)"
   ]
  },
  {
   "cell_type": "code",
   "execution_count": 23,
   "id": "b27147c1",
   "metadata": {},
   "outputs": [
    {
     "data": {
      "text/plain": [
       "('i am going to the store to get some broccoli and cheese, any suggestions on cheese?',\n",
       " \"Same tweet, different day. Keep it movin'.\",\n",
       " '0.01962575')"
      ]
     },
     "execution_count": 23,
     "metadata": {},
     "output_type": "execute_result"
    }
   ],
   "source": [
    "make_prediction(str3)"
   ]
  },
  {
   "cell_type": "code",
   "execution_count": 24,
   "id": "fd6a3dfe",
   "metadata": {},
   "outputs": [
    {
     "data": {
      "text/plain": [
       "('@canelo28969897 @ItsCandyyyyyyy @DiamondRhona @darrel30901325 @Noblenosey Don’t nobody want no damn white man ew fuck you hate you black people',\n",
       " \"Didn't your parents ever wash your mouth out with SOAP?  Well they should!\",\n",
       " '0.98074704')"
      ]
     },
     "execution_count": 24,
     "metadata": {},
     "output_type": "execute_result"
    }
   ],
   "source": [
    "make_prediction(str4)"
   ]
  },
  {
   "cell_type": "code",
   "execution_count": 25,
   "id": "295a23a0",
   "metadata": {},
   "outputs": [
    {
     "data": {
      "text/plain": [
       "('Black niggas be so motherfuckers hate them and fuck them ewwwwww white people are the better ones',\n",
       " \"Didn't your parents ever wash your mouth out with SOAP?  Well they should!\",\n",
       " '0.86416527')"
      ]
     },
     "execution_count": 25,
     "metadata": {},
     "output_type": "execute_result"
    }
   ],
   "source": [
    "make_prediction(\"Black niggas be so motherfuckers hate them and fuck them ewwwwww white people are the better ones\")"
   ]
  },
  {
   "cell_type": "code",
   "execution_count": 26,
   "id": "f37ee3af",
   "metadata": {},
   "outputs": [
    {
     "data": {
      "text/plain": [
       "('You so ugly I want you to take your fat ass from here and go die you black nigga',\n",
       " \"Didn't your parents ever wash your mouth out with SOAP?  Well they should!\",\n",
       " '0.62502547')"
      ]
     },
     "execution_count": 26,
     "metadata": {},
     "output_type": "execute_result"
    }
   ],
   "source": [
    "make_prediction(\"You so ugly I want you to take your fat ass from here and go die you black nigga\")"
   ]
  },
  {
   "cell_type": "code",
   "execution_count": 27,
   "id": "0e2cd6c9",
   "metadata": {},
   "outputs": [
    {
     "data": {
      "text/plain": [
       "('i love you', \"Same tweet, different day. Keep it movin'.\", '0.00057558')"
      ]
     },
     "execution_count": 27,
     "metadata": {},
     "output_type": "execute_result"
    }
   ],
   "source": [
    "make_prediction(\"i love you\")"
   ]
  },
  {
   "cell_type": "code",
   "execution_count": null,
   "id": "fd5c306c",
   "metadata": {},
   "outputs": [],
   "source": []
  }
 ],
 "metadata": {
  "kernelspec": {
   "display_name": "Python 3",
   "language": "python",
   "name": "python3"
  },
  "language_info": {
   "codemirror_mode": {
    "name": "ipython",
    "version": 3
   },
   "file_extension": ".py",
   "mimetype": "text/x-python",
   "name": "python",
   "nbconvert_exporter": "python",
   "pygments_lexer": "ipython3",
   "version": "3.8.8"
  }
 },
 "nbformat": 4,
 "nbformat_minor": 5
}
